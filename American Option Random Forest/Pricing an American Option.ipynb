{
 "cells": [
  {
   "cell_type": "code",
   "execution_count": 1,
   "id": "d7740c8f",
   "metadata": {},
   "outputs": [],
   "source": [
    "import numpy as np\n",
    "from sklearn.ensemble import RandomForestRegressor\n",
    "from sklearn.neighbors import kneighbors_graph, NearestNeighbors\n",
    "import scipy\n",
    "import scipy.sparse as sparse\n",
    "import matplotlib.pyplot as plt\n",
    "from sklearn.model_selection import GridSearchCV\n",
    "from sklearn.ensemble import RandomForestClassifier\n",
    "from sklearn.metrics import (accuracy_score, confusion_matrix, \n",
    "                             classification_report, roc_curve, auc)"
   ]
  },
  {
   "cell_type": "markdown",
   "id": "41ab7054",
   "metadata": {},
   "source": [
    "## Price the American Option, and introduction"
   ]
  },
  {
   "cell_type": "markdown",
   "id": "da811fe1",
   "metadata": {},
   "source": [
    "The American options are different than the European options due to flexibility in excersing time. That is, at each time step, one needs to compare the immediate exercise value with the corresponding continuing value. \n",
    "\n",
    "This problem can be put under the Snell Envelope theory and be formed as a dynamic programming problem. However, one cannot avoid one key step (also the major difficulty) which is calculating the conditional expectation. \n",
    "\n",
    "In this work, we apply the Longstaff Schwartz algorithm and apply a few regression methods (Random Forest, polynomial regression etc) to solve one simple problem. "
   ]
  },
  {
   "cell_type": "markdown",
   "id": "3989ca2a",
   "metadata": {},
   "source": [
    "### Algorithm"
   ]
  },
  {
   "cell_type": "markdown",
   "id": "323efc98",
   "metadata": {},
   "source": [
    "We consider the filtered probabilty space $(\\mathbb{\\Omega}, \\mathcal{F},(\\mathcal{F}_t)_{0 \\leq t \\leq T}, \\mathbb{P} )$, and we take $\\mathbb{P}$ as the risk neutral measure. \n",
    "\n",
    "Consider a Bermudan option that can be exercised at dates\n",
    "$$0=t_0 < t_1 < t_2< ... < t_N =T$$\n",
    "\n",
    "The option's `discounted payoff` is given by \n",
    "$$Z_{t_j}=h_j(X_{t_j})$$\n",
    "when the option is excersied and the sequence $(X_{t_j})_j, \\ X_{t_j} \\in \\mathbb{R}^d$ is underlying stock prices which is a Markov process. \n",
    "\n",
    "The discounted value $(X_{t_j})_{0 \\leq j \\leq N}$ of this option is \n",
    "$$U_{t_j} = \\sup_{\\tau \\in \\mathcal{T}_{t_j, T}}\\mathbb{E}[Z_{\\tau} | \\mathcal{F}_{t_j}]$$\n",
    "The Snell envelope theory tells us the following (the dynamic programming equations)\n",
    "\n",
    "$$\\begin{equation}\n",
    "\\left\\{ \n",
    "  \\begin{aligned}\n",
    "    U_{t_N} &=Z_{t,N}\\\\\n",
    "    U_{t_j} &=\\max(Z_{t_j}, \\mathbb{E}[U_{t_{j+1}}|\\mathcal{F}_{t_j}]) , \\  1 \\leq j \\leq N-1  \\\\\n",
    "  \\end{aligned}\n",
    "  \\right.\n",
    "\\end{equation}\n",
    "$$\n",
    "\n",
    "In terms of the stopping time, this above equation equals the following\n",
    "$$\\begin{equation}\n",
    "\\left\\{ \n",
    "  \\begin{aligned}\n",
    "    \\tau_{t_N} &=t_N=T\\\\\n",
    "    \\tau_j &=t_j \\mathbb{1}_{Z_{t_j} \\geq \\mathbb{E}[Z_{\\tau_{j+1}}|X_{t_j}]} + \\tau_{j+1} \\mathbb{1}_{Z_{t_j} \\leq\\mathbb{E}[Z_{\\tau_{j+1}}|X_{t_j}]}, \\  1 \\leq j \\leq N-1  \\\\\n",
    "  \\end{aligned}\n",
    "  \\right.\n",
    "\\end{equation}\n",
    "$$\n",
    "Here $\\tau_j$ is the smallest optimal stopping time after $t_j$. \n",
    "Notice that we have replaced the $\\mathcal{F}_{t_j}$ in $\\mathbb{E}[Z_{\\tau_{j+1}}|\\mathcal{F}_{t_j}]$ with the state $X_{t_j}$ due to the Markov setup. "
   ]
  },
  {
   "cell_type": "markdown",
   "id": "2cc48843",
   "metadata": {},
   "source": [
    "A total of M samples of $X_{t_j}$ trajectories are sampled, to gether with the ${Z_{t_j}}$'s \n",
    "\n",
    "$$\\begin{equation}\n",
    "\\left\\{ \n",
    "  \\begin{aligned}\n",
    "    \\hat{\\tau}^{ m}_{N} &=t_N=T\\\\\n",
    "    \\hat{\\tau}^{m}_{j} &=t_j \\mathbb{1}_{ \\lbrace Z^{m}_{t_j} \\geq \\hat{\\mathcal{T}}^{j,M}(X^m_{t_j}) \\rbrace } + \\hat{\\tau}^{m}_{j+1} \\mathbb{1}_{\\lbrace Z^m_{t_j} \\leq\\hat{\\mathcal{T}}^{j,M}(X^m_{t_j}) \\rbrace}, \\  1 \\leq j \\leq N-1  \\\\\n",
    "  \\end{aligned}\n",
    "  \\right.\n",
    "\\end{equation}\n",
    "$$\n",
    "\n",
    "Then, the price of the option is given by the following\n",
    "$$U^M_0= \\max(Z_0, \\frac{1}{M}\\sum^M_{m=1} Z^m_{\\hat{\\tau}^m_1})$$\n",
    "\n"
   ]
  },
  {
   "cell_type": "markdown",
   "id": "5775ac83",
   "metadata": {},
   "source": [
    "## Example, 1D Black-Scholes\n",
    "Consider a put option with the following dynamics\n",
    "\n",
    "$$dS^i_t=rS_t^i dt + \\sigma S^i_t dW^i_t$$\n",
    "with the parameters set up below. \n",
    "\n",
    "It is a put option with strike $K$. "
   ]
  },
  {
   "cell_type": "code",
   "execution_count": 2,
   "id": "be1d37b4",
   "metadata": {},
   "outputs": [],
   "source": [
    "#Consider a one dim example first. This is the Black and Scholes' model\n",
    "# The reference solution is 11.987\n",
    "T=1.0; K=110; S0=100; \n",
    "sigma=0.25;N=11;dt=T/(N-1); sqrt_dt= np.sqrt(dt)\n",
    "Ndates=np.linspace(0,1,N);\n",
    "r=0.1; \n",
    "M=int(5*10**5)"
   ]
  },
  {
   "cell_type": "markdown",
   "id": "69efb331",
   "metadata": {},
   "source": [
    "## Generating the stock price"
   ]
  },
  {
   "cell_type": "code",
   "execution_count": 3,
   "id": "fcdbd7da",
   "metadata": {},
   "outputs": [],
   "source": [
    "S=np.zeros((M,N)); S[:,0]=np.ones(M)*S0\n",
    "for i in range(N-1): \n",
    "    S[:,i+1]=S[:,i]+r*S[:,i]*dt+sqrt_dt*sigma*S[:,i]*np.random.standard_normal(size=M)"
   ]
  },
  {
   "cell_type": "code",
   "execution_count": 4,
   "id": "015f9333",
   "metadata": {},
   "outputs": [],
   "source": [
    "def pay_off(X,timeslot,K=110):\n",
    "    return np.maximum(K-X,0)*np.exp(-r*timeslot)"
   ]
  },
  {
   "cell_type": "markdown",
   "id": "44e675de",
   "metadata": {},
   "source": [
    "### A quick look at the second to last timestep"
   ]
  },
  {
   "cell_type": "code",
   "execution_count": 45,
   "id": "6c396025",
   "metadata": {},
   "outputs": [],
   "source": [
    "xtemp=S[:,-2]; xtemp=xtemp.reshape(xtemp.size,1)\n",
    "ztemp=Z_vec[:,-1]; \n",
    "rf=RandomForestRegressor(n_estimators=10,min_samples_leaf=1,max_depth=20, n_jobs=-1)\n",
    "### This regN function is the conditional expectation function we take at step N-1\n",
    "regressor=rf.fit(xtemp,ztemp)\n",
    "ztemp_pred=regressor.predict(xtemp)"
   ]
  },
  {
   "cell_type": "code",
   "execution_count": 54,
   "id": "a52beaa9",
   "metadata": {},
   "outputs": [
    {
     "data": {
      "text/plain": [
       "Text(0.5, 1.0, 'Terminal case')"
      ]
     },
     "execution_count": 54,
     "metadata": {},
     "output_type": "execute_result"
    },
    {
     "data": {
      "image/png": "[encoded data removed]",
      "text/plain": [
       "<Figure size 432x288 with 1 Axes>"
      ]
     },
     "metadata": {
      "needs_background": "light"
     },
     "output_type": "display_data"
    }
   ],
   "source": [
    "plt.plot(xtemp, ztemp , 'r.',label='Payoff')\n",
    "plt.plot(xtemp, ztemp_pred, 'b.',label='Approximated Payoff')\n",
    "plt.legend(loc='upper right')\n",
    "plt.title('Terminal case')"
   ]
  },
  {
   "cell_type": "markdown",
   "id": "01279fa9",
   "metadata": {},
   "source": [
    "## Setting up $\\tau$ and $Z$"
   ]
  },
  {
   "cell_type": "code",
   "execution_count": 5,
   "id": "f0a792f0",
   "metadata": {},
   "outputs": [],
   "source": [
    "tau_vec=np.zeros((M,N)); tau_vec[:,-1]= np.ones(M)*Ndates[-1]\n",
    "Z_vec=np.zeros((M,N)); \n",
    "Z_tau=np.zeros((M,N)); \n",
    "for i in range(0,N):\n",
    "    Z_temp=pay_off(S[:,i],Ndates[i]);\n",
    "    Z_tau[:,i]=Z_temp\n",
    "    Z_vec[:,i]=Z_temp"
   ]
  },
  {
   "cell_type": "markdown",
   "id": "8c7ecb53",
   "metadata": {},
   "source": [
    "## Using Random Forest as the regressor"
   ]
  },
  {
   "cell_type": "code",
   "execution_count": 27,
   "id": "46798ff6",
   "metadata": {},
   "outputs": [],
   "source": [
    "def AmericanOption(N,Z_vec,Z_tau,S):\n",
    "    z_vec=np.copy(Z_vec); \n",
    "    z_tau=np.copy(Z_tau)\n",
    "    reg_list=[]\n",
    "    for i in range(N-1,1,-1): # The index starts with N-1 ends with 1 \n",
    "        xtemp=S[:,i-1]; xtemp=xtemp.reshape(xtemp.size,1)\n",
    "        ztemp=z_tau[:,i]; #ztemp=ztemp.reshape(ztemp.size,1) ## The subindex is tj\n",
    "        \n",
    "        rf=RandomForestRegressor(n_estimators=10,min_samples_leaf=100,max_depth=5,n_jobs=-1); \n",
    "\n",
    "        reg=rf.fit(xtemp,ztemp)\n",
    "        z_pred=reg.predict(xtemp)\n",
    "        \n",
    "        idx_continue=(z_vec[:,i-1]<z_pred); \n",
    "        z_tau[:,i-1][idx_continue]=z_tau[:,i][idx_continue]\n",
    "        \n",
    "        reg_list.append(reg)\n",
    "    \n",
    "    return z_tau, reg_list"
   ]
  },
  {
   "cell_type": "code",
   "execution_count": 28,
   "id": "b399ade7",
   "metadata": {},
   "outputs": [],
   "source": [
    "res1,res2=AmericanOption(N,Z_vec,Z_tau,S)"
   ]
  },
  {
   "cell_type": "code",
   "execution_count": 29,
   "id": "be469849",
   "metadata": {},
   "outputs": [
    {
     "data": {
      "text/plain": [
       "11.99413210376091"
      ]
     },
     "execution_count": 29,
     "metadata": {},
     "output_type": "execute_result"
    }
   ],
   "source": [
    "## The Random foreset method gives a result that's better, but one needs to find tune it.\n",
    "## the larger/smaller max_depth term tends to overfit/underfit\n",
    "np.mean(res1[:,1])"
   ]
  },
  {
   "cell_type": "code",
   "execution_count": 56,
   "id": "ccecbee7",
   "metadata": {},
   "outputs": [
    {
     "data": {
      "text/plain": [
       "0.0005839659631266933"
      ]
     },
     "execution_count": 56,
     "metadata": {},
     "output_type": "execute_result"
    }
   ],
   "source": [
    "(11.994-11.987)/11.987"
   ]
  },
  {
   "cell_type": "markdown",
   "id": "294fe53a",
   "metadata": {},
   "source": [
    "### Comparing with Polynomial approximation"
   ]
  },
  {
   "cell_type": "code",
   "execution_count": 38,
   "id": "52447e53",
   "metadata": {},
   "outputs": [],
   "source": [
    "def AmericanOption_poly(N,Z_vec,Z_tau,S):\n",
    "    reg_list=[]\n",
    "    z_vec=np.copy(Z_vec); \n",
    "    z_tau=np.copy(Z_tau)\n",
    "    for i in range(N-1,1,-1): # The index starts with N-1 ends with 1 \n",
    "        xtemp=S[:,i-1]; #xtemp=xtemp.reshape(xtemp.size,1)\n",
    "        ztemp=z_tau[:,i]; #ztemp=ztemp.reshape(ztemp.size,1) ## The subindex is tj\n",
    "        \n",
    "        rf=np.polyfit(xtemp,ztemp, 3)\n",
    "        z_pred=np.polyval(rf,xtemp)\n",
    "   \n",
    "        idx_continue=(z_vec[:,i-1]<z_pred); \n",
    "        z_tau[:,i-1][idx_continue]=z_tau[:,i][idx_continue]\n",
    "        \n",
    "        reg_list.append(rf)\n",
    "    \n",
    "    return z_tau, reg_list"
   ]
  },
  {
   "cell_type": "code",
   "execution_count": 39,
   "id": "24f507a0",
   "metadata": {},
   "outputs": [],
   "source": [
    "res1,res2=AmericanOption_poly(N,Z_vec,Z_tau,S)"
   ]
  },
  {
   "cell_type": "code",
   "execution_count": 40,
   "id": "0d5e3a96",
   "metadata": {},
   "outputs": [
    {
     "data": {
      "text/plain": [
       "11.880296656539402"
      ]
     },
     "execution_count": 40,
     "metadata": {},
     "output_type": "execute_result"
    }
   ],
   "source": [
    "np.mean(res1[:,1])"
   ]
  },
  {
   "cell_type": "code",
   "execution_count": 41,
   "id": "a6a95269",
   "metadata": {},
   "outputs": [
    {
     "data": {
      "text/plain": [
       "0.005025125628140597"
      ]
     },
     "execution_count": 41,
     "metadata": {},
     "output_type": "execute_result"
    }
   ],
   "source": [
    "# The polynomial method gives a 0.5% accuracy\n",
    "(11.94-11.88)/11.94"
   ]
  },
  {
   "cell_type": "code",
   "execution_count": null,
   "id": "1e607dd5",
   "metadata": {},
   "outputs": [],
   "source": []
  }
 ],
 "metadata": {
  "kernelspec": {
   "display_name": "Python 3 (ipykernel)",
   "language": "python",
   "name": "python3"
  },
  "language_info": {
   "codemirror_mode": {
    "name": "ipython",
    "version": 3
   },
   "file_extension": ".py",
   "mimetype": "text/x-python",
   "name": "python",
   "nbconvert_exporter": "python",
   "pygments_lexer": "ipython3",
   "version": "3.8.12"
  }
 },
 "nbformat": 4,
 "nbformat_minor": 5
}
