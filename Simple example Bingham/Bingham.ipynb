{
 "cells": [
  {
   "cell_type": "code",
   "execution_count": 170,
   "id": "fd5e17d5",
   "metadata": {},
   "outputs": [],
   "source": [
    "import numpy as np\n",
    "import torch\n",
    "import torch.nn as nn\n",
    "import time \n",
    "import logging\n",
    "import torch.optim as optim\n",
    "import os\n",
    "from scipy.stats import multivariate_normal as normal\n",
    "import torch.nn.functional as F\n",
    "from torch.nn import Parameter\n",
    "import matplotlib.pyplot as plt\n",
    "from torch import distributions\n",
    "from sklearn import cluster, datasets, mixture"
   ]
  },
  {
   "cell_type": "code",
   "execution_count": 171,
   "id": "6803c3d4",
   "metadata": {},
   "outputs": [
    {
     "name": "stdout",
     "output_type": "stream",
     "text": [
      "Using cpu device\n"
     ]
    }
   ],
   "source": [
    "device = \"cuda\" if torch.cuda.is_available() else \"cpu\"\n",
    "print(\"Using {} device\".format(device))\n",
    "\n",
    "data_type=torch.float32\n",
    "MOMENTUM = 0.99\n",
    "EPSILON = 1e-6"
   ]
  },
  {
   "cell_type": "code",
   "execution_count": 172,
   "id": "5808bc34",
   "metadata": {},
   "outputs": [
    {
     "data": {
      "text/plain": [
       "tensor([1., 4.])"
      ]
     },
     "execution_count": 172,
     "metadata": {},
     "output_type": "execute_result"
    }
   ],
   "source": [
    "torch.linspace(1,2,steps=2)*torch.linspace(1,2,steps=2)"
   ]
  },
  {
   "cell_type": "code",
   "execution_count": 173,
   "id": "84ebdd3a",
   "metadata": {},
   "outputs": [],
   "source": [
    "class Config(object):\n",
    "    n_layer = 4\n",
    "    batch_size = 100\n",
    "\n",
    "    dim=2; \n",
    "  #  Ntime=20; \n",
    " #   delta=1/Ntime\n",
    "  #  sqrt_deltaT=np.sqrt(1.0/Ntime); \n",
    "    gamma=2.0\n",
    "    kvec2=torch.linspace(1,dim,steps=dim)*torch.linspace(1,dim,steps=dim)\n",
    "\n",
    "    logging_frequency = 100\n",
    "    verbose = True\n",
    "    \n",
    "    num_hiddens = [dim,256,256,dim] ## 256 ,256\n",
    "    n_layers=6; n_layer_half=3; \n",
    "    \n",
    "def get_config(name):\n",
    "    try:\n",
    "        return globals()[name]\n",
    "    except KeyError:\n",
    "        raise KeyError(\"config not defined.\")"
   ]
  },
  {
   "cell_type": "code",
   "execution_count": 174,
   "id": "3a2054a4",
   "metadata": {},
   "outputs": [],
   "source": [
    "cfg=get_config('Config')"
   ]
  },
  {
   "cell_type": "code",
   "execution_count": 175,
   "id": "d8f3b1d3",
   "metadata": {},
   "outputs": [
    {
     "data": {
      "text/plain": [
       "torch.nn.modules.activation.Tanh"
      ]
     },
     "execution_count": 175,
     "metadata": {},
     "output_type": "execute_result"
    }
   ],
   "source": [
    "nn.Tanh"
   ]
  },
  {
   "cell_type": "markdown",
   "id": "d6c992c7",
   "metadata": {},
   "source": [
    "## Basic blocks"
   ]
  },
  {
   "cell_type": "code",
   "execution_count": 176,
   "id": "a42ef8db",
   "metadata": {},
   "outputs": [],
   "source": [
    "\"\"\"\n",
    "This function defines one block for the nn (Only one dense linear connected layer)\n",
    "\"\"\"\n",
    "class Dense(nn.Module): \n",
    "    def __init__(self,cin, cout, batch_norm=False, activate=False): \n",
    "        super(Dense,self).__init__()\n",
    "        self.cin=cin; \n",
    "        self.cout=cout; \n",
    "        self.activate=activate; \n",
    "        self.relu=nn.LeakyReLU()\n",
    "        self.linear=nn.Linear(self.cin,self.cout) #The linear layer\n",
    "        #BatchNorm1d: it requires the input to be a correct size\n",
    "        self.tanh=nn.Tanh()\n",
    "        if batch_norm: \n",
    "            self.bn=nn.BatchNorm1d(cout,eps=EPSILON,momentum=MOMENTUM)\n",
    "        else: \n",
    "            self.bn=None\n",
    "      #  nn.init.normal_(self.linear.weight,std=5.0/np.sqrt(cin+cout))\n",
    "        # This is the He initialization\n",
    "        \n",
    "    def forward(self,x): \n",
    "        x=self.linear(x)\n",
    "        if self.bn is not None:\n",
    "            x=self.bn(x)\n",
    "        if self.activate:\n",
    "            x=self.tanh(x) #x=self.relu(x)\n",
    "        return x \n",
    "    \n",
    "\"\"\"\n",
    "Each DenseFC defined below will either be a scaling / translational \n",
    "part of the coupling block. \n",
    "\"\"\"\n",
    "class DenseFC(nn.Module):\n",
    "    def __init__(self, config):\n",
    "        super(DenseFC,self).__init__()\n",
    "        self.config=config\n",
    "        \n",
    "        self.bn=nn.BatchNorm1d(config.num_hiddens[0],eps=EPSILON,momentum=MOMENTUM)\n",
    "        # range(1,5): 1,2,3,4\n",
    "        self.layers=[Dense(config.num_hiddens[i-1],config.num_hiddens[i]) for i in range(1, len(config.num_hiddens)-1)]\n",
    "        self.layers+=[Dense(config.num_hiddens[-2], config.num_hiddens[-1],activate=False)]\n",
    "        self.layers=nn.Sequential(*self.layers)\n",
    "        \n",
    "    \n",
    "    def forward(self,x):\n",
    "        z=x\n",
    "        x=self.bn(x)\n",
    "        x=self.layers(x)\n",
    "        return x \n",
    "    \n",
    "class DenseFC_s(nn.Module):\n",
    "    def __init__(self, config):\n",
    "        super(DenseFC_s,self).__init__()\n",
    "        self.config=config\n",
    "        \n",
    "        self.bn=nn.BatchNorm1d(config.num_hiddens[0],eps=EPSILON,momentum=MOMENTUM)\n",
    "        # range(1,5): 1,2,3,4\n",
    "        self.layers=[Dense(config.num_hiddens[i-1],config.num_hiddens[i]) for i in range(1, len(config.num_hiddens)-1)]\n",
    "        self.layers+=[Dense(config.num_hiddens[-2], config.num_hiddens[-1],activate=False)]\n",
    "        self.layers=nn.Sequential(*self.layers)\n",
    "    \n",
    "    def forward(self,x):\n",
    "        z=x\n",
    "        x=self.bn(z)\n",
    "        x=self.layers(x)\n",
    "        return x "
   ]
  },
  {
   "cell_type": "code",
   "execution_count": 177,
   "id": "3c10170b",
   "metadata": {},
   "outputs": [],
   "source": [
    "class CouplingLayer(nn.Module):\n",
    "    def __init__(self,config, mask):\n",
    "        super(CouplingLayer,self).__init__()\n",
    "        \n",
    "        self.cfg=config\n",
    "        self.input_dim=self.cfg.dim\n",
    "        self.output_dim=self.cfg.dim\n",
    "        \n",
    "        self.s=DenseFC_s(self.cfg) # The reference code uses tanh even for the final output for s\n",
    "        self.t=DenseFC(self.cfg)\n",
    "        \n",
    "        self.mask=mask ## Should be defined in the cfg class\n",
    "        \n",
    "    def forward(self,y):## conventionally defined as g \n",
    "        log_det_jacobian,x=y.new_zeros(y.shape[0]), y; \n",
    "        \n",
    "        x_m=x*self.mask # cover the second half\n",
    "        s_out=self.s(x_m)*(1-self.mask)\n",
    "        t_out=self.t(x_m)*(1-self.mask)\n",
    "        \n",
    "        ytemp=x_m +(1-self.mask)*(x*torch.exp(s_out)+t_out)\n",
    "        \n",
    "        log_det_jacobian=s_out.sum(dim=1) ## There is no problem with that, it's only the log_det_jacobian\n",
    "        return ytemp, log_det_jacobian\n",
    "    \n",
    "    def backward(self,y):  ## conventionally defined as f \n",
    "        # log_det_jacobian,x=y.new_zeros(y.shape[0]),y\n",
    "        \n",
    "        x=y\n",
    "        y_m=x*self.mask\n",
    "        s_out=self.s(y_m)*(1-self.mask)\n",
    "        t_out=self.t(y_m)*(1-self.mask)\n",
    "        \n",
    "        x=y_m+(1-self.mask)*(y-t_out)*torch.exp(-s_out) #putting them together \n",
    "       # log_det_jacobian=-s_out.sum(dim=1)\n",
    "        return x #, log_det_jacobian\n",
    "\n",
    "    ### If we are doing the forward maps, then the structure will be somewhat different. \n",
    "    \n",
    "class RealNVP(nn.Module):\n",
    "    def __init__(self,config,mask):\n",
    "        super().__init__()\n",
    "        self.cfg=config\n",
    "        self.gamma=self.cfg.gamma\n",
    "        \n",
    "        self.modules=[];\n",
    "        self.modules.append(CouplingLayer(self.cfg,mask))\n",
    "        for _ in range(self.cfg.n_layers-1):\n",
    "            mask=1.0-mask; \n",
    "            self.modules.append(CouplingLayer(self.cfg,mask))\n",
    "        self.moduleList=nn.ModuleList(self.modules)\n",
    "        \n",
    "    def g(self,x):\n",
    "        ldj_sum=0.0\n",
    "        z=x\n",
    "        for module in self.moduleList:\n",
    "            z,ldj=module.forward(z)   \n",
    "            ldj_sum+=ldj\n",
    "        return z, ldj_sum\n",
    "    \n",
    "    def f(self,z):\n",
    "        #ldj_sum=0.0\n",
    "        x=z\n",
    "        for module in reversed(self.moduleList):\n",
    "            x=module.backward(x)\n",
    "        return x\n",
    "    \n",
    "   # def log_prob(self,x, prior):\n",
    "   #     z, logp= self.g(x)\n",
    "#    res=prior.log_prob(z) + logp\n",
    "    #    return res\n",
    "    \n",
    "    def g_BatchSample(self,batchsize,prior):\n",
    "        z=prior.sample((batchsize,))\n",
    "        x=self.g(z)\n",
    "        return x\n",
    "    \n",
    "    def target_KL(self,z): \n",
    "        #sums=0.0;\n",
    "        x,logp=self.g(z)\n",
    "    \n",
    "        x2=x*x; \n",
    "        norm_2=torch.sum(x2,dim=1).reshape(self.cfg.batch_size,1);\n",
    "        \n",
    "        ### This two are not different by that much\n",
    "        sums= torch.sum(self.gamma*(1.0/norm_2*x2*self.cfg.kvec2) +x2,dim=1) - logp\n",
    "        return sums\n",
    "        #self.gamma*(1.0/norm_2*x2*self.cfg.kvec2) +"
   ]
  },
  {
   "cell_type": "code",
   "execution_count": 178,
   "id": "e33af1a7",
   "metadata": {},
   "outputs": [],
   "source": [
    "mask_temp=torch.tensor([0.0,1.0],requires_grad=False)\n",
    "rvp1=RealNVP(cfg,mask_temp)\n",
    "prior = distributions.MultivariateNormal(torch.zeros(2), torch.eye(2))\n",
    "optimizer=torch.optim.Adam(rvp1.parameters(),lr=5e-5) \n",
    "### The learning rate is important, deeper nn structure may require much smaller learning rate. \n",
    "scheduler = optim.lr_scheduler.MultiStepLR(optimizer, milestones=[2500], gamma=0.1) "
   ]
  },
  {
   "cell_type": "code",
   "execution_count": 179,
   "id": "d6e3c68b",
   "metadata": {},
   "outputs": [
    {
     "name": "stdout",
     "output_type": "stream",
     "text": [
      "iter 0: loss = 8.104\n",
      "iter 500: loss = 5.512\n",
      "iter 1000: loss = 5.906\n",
      "iter 1500: loss = 5.254\n",
      "iter 2000: loss = 5.394\n",
      "iter 2500: loss = 5.576\n",
      "iter 3000: loss = 5.444\n",
      "iter 3500: loss = 5.562\n",
      "iter 4000: loss = 5.508\n",
      "iter 4500: loss = 5.424\n",
      "iter 5000: loss = 5.564\n"
     ]
    }
   ],
   "source": [
    "for t in range(5001):\n",
    "    x_init = torch.randn(100,2)  #datasets.make_moons(n_samples=100, noise=.05)[0].astype(np.float32)\n",
    "    loss = rvp1.target_KL(x_init).mean()\n",
    "    \n",
    "    optimizer.zero_grad()\n",
    "    loss.backward(retain_graph=True)\n",
    "    optimizer.step()\n",
    "    scheduler.step()\n",
    "    \n",
    "    if t % 500 == 0:\n",
    "        print('iter %s:' % t, 'loss = %.3f' % loss)"
   ]
  },
  {
   "cell_type": "code",
   "execution_count": null,
   "id": "7861e60e",
   "metadata": {},
   "outputs": [],
   "source": []
  },
  {
   "cell_type": "code",
   "execution_count": null,
   "id": "67df7ed6",
   "metadata": {},
   "outputs": [],
   "source": []
  },
  {
   "cell_type": "code",
   "execution_count": null,
   "id": "15cb31da",
   "metadata": {},
   "outputs": [],
   "source": []
  },
  {
   "cell_type": "markdown",
   "id": "885a8573",
   "metadata": {},
   "source": [
    "# Sampling from the 2D Bingham disribution."
   ]
  },
  {
   "cell_type": "markdown",
   "id": "4b116c58",
   "metadata": {},
   "source": [
    "The Bingham distribution is a multi-model distribution on the surface of a sphere. \n",
    "$$ \\frac{1}{z_k}exp(-\\gamma (x_1^2 + 4 x_2^2+ ...+ k^2x_k^2) )  d \\nu$$\n",
    "where $d\\nu$ is the uniform distriution on the spherical surface. \n",
    "\n",
    "We study its ambient distriubtion:\n",
    "$$\\frac{1}{Z_k}exp( - \\frac{\\gamma}{|x|^2} (x^2_1+ 4x_2^2+ ...+ k^2x_k^2) ) \\mathcal{G_2}$$\n",
    "where $\\mathcal{G_2}= \\exp(-(x_1^2+...+x_k^2))$ (the unnormalized multivariate Gaussian)\n",
    "\n",
    "The benefit is that now the samples all live in $\\mathbb{R}^k$. After we obtain the transported samples, we simply project them to the spherical surface. "
   ]
  },
  {
   "cell_type": "markdown",
   "id": "3a4db771",
   "metadata": {},
   "source": [
    "# Original Guassian ditribution, 2D"
   ]
  },
  {
   "cell_type": "code",
   "execution_count": 203,
   "id": "bc05a3d7",
   "metadata": {},
   "outputs": [],
   "source": [
    "sample_shape=1000\n",
    "xin = torch.randn(sample_shape,2)\n",
    "res1,res2=rvp1.g(xin)"
   ]
  },
  {
   "cell_type": "code",
   "execution_count": 204,
   "id": "b5e6dea6",
   "metadata": {},
   "outputs": [
    {
     "data": {
      "text/plain": [
       "Text(0.5, 1.0, '$X = g(z)$, $\\\\gamma=1$, Orignal Guassian ditribution')"
      ]
     },
     "execution_count": 204,
     "metadata": {},
     "output_type": "execute_result"
    },
    {
     "data": {
      "image/png": "[encoded data removed]",
      "text/plain": [
       "<Figure size 432x288 with 1 Axes>"
      ]
     },
     "metadata": {
      "needs_background": "light"
     },
     "output_type": "display_data"
    }
   ],
   "source": [
    "plt.scatter(xin[:,  0].detach().numpy(), xin[:,  1].detach().numpy(), c='r')\n",
    "plt.title(r'$X = g(z)$, $\\gamma=1$, Orignal Guassian ditribution')"
   ]
  },
  {
   "cell_type": "markdown",
   "id": "5f2e5d4b",
   "metadata": {},
   "source": [
    "## Transported\n",
    "Here are samples after transportation, notice that the samples are slightly clusterd into two segments."
   ]
  },
  {
   "cell_type": "code",
   "execution_count": 205,
   "id": "d9961f19",
   "metadata": {},
   "outputs": [
    {
     "data": {
      "text/plain": [
       "Text(0.5, 1.0, '$X = g(z)$, $\\\\gamma=1$, Transported Guassian')"
      ]
     },
     "execution_count": 205,
     "metadata": {},
     "output_type": "execute_result"
    },
    {
     "data": {
      "image/png": "[encoded data removed]",
      "text/plain": [
       "<Figure size 432x288 with 1 Axes>"
      ]
     },
     "metadata": {
      "needs_background": "light"
     },
     "output_type": "display_data"
    }
   ],
   "source": [
    "plt.scatter(res1[:,  0].detach().numpy(), res1[:,  1].detach().numpy(), c='r')\n",
    "plt.title(r'$X = g(z)$, $\\gamma=1$, Transported Guassian')"
   ]
  },
  {
   "cell_type": "markdown",
   "id": "2982cdf2",
   "metadata": {},
   "source": [
    "# Projected\n",
    "\n",
    "After projection, we see that the orignal samples are now transported to the different modes on the circle."
   ]
  },
  {
   "cell_type": "code",
   "execution_count": 206,
   "id": "3c5069a6",
   "metadata": {},
   "outputs": [],
   "source": [
    "res1_norm=torch.sqrt(torch.sum(res1*res1,dim=1))\n",
    "res1_norm=res1_norm.reshape(sample_shape,1)"
   ]
  },
  {
   "cell_type": "code",
   "execution_count": 207,
   "id": "f2587666",
   "metadata": {},
   "outputs": [],
   "source": [
    "res1=1.0/res1_norm*res1"
   ]
  },
  {
   "cell_type": "code",
   "execution_count": 208,
   "id": "f52b436a",
   "metadata": {},
   "outputs": [
    {
     "data": {
      "text/plain": [
       "Text(0.5, 1.0, '$X = g(z)$, $\\\\gamma=1$, Projected ')"
      ]
     },
     "execution_count": 208,
     "metadata": {},
     "output_type": "execute_result"
    },
    {
     "data": {
      "image/png": "[encoded data removed]",
      "text/plain": [
       "<Figure size 432x288 with 1 Axes>"
      ]
     },
     "metadata": {
      "needs_background": "light"
     },
     "output_type": "display_data"
    }
   ],
   "source": [
    "plt.scatter(res1[:,  0].detach().numpy(), res1[:,  1].detach().numpy(), c='r')\n",
    "plt.title(r'$X = g(z)$, $\\gamma=1$, Projected ')"
   ]
  },
  {
   "cell_type": "code",
   "execution_count": null,
   "id": "8aa1353d",
   "metadata": {},
   "outputs": [],
   "source": []
  },
  {
   "cell_type": "code",
   "execution_count": null,
   "id": "80f34e89",
   "metadata": {},
   "outputs": [],
   "source": []
  },
  {
   "cell_type": "code",
   "execution_count": null,
   "id": "91a782e1",
   "metadata": {},
   "outputs": [],
   "source": []
  },
  {
   "cell_type": "code",
   "execution_count": null,
   "id": "56609d6e",
   "metadata": {},
   "outputs": [],
   "source": []
  },
  {
   "cell_type": "code",
   "execution_count": null,
   "id": "3677a82a",
   "metadata": {},
   "outputs": [],
   "source": []
  },
  {
   "cell_type": "code",
   "execution_count": null,
   "id": "ef095b95",
   "metadata": {},
   "outputs": [],
   "source": []
  },
  {
   "cell_type": "code",
   "execution_count": null,
   "id": "ef91734e",
   "metadata": {},
   "outputs": [],
   "source": []
  },
  {
   "cell_type": "code",
   "execution_count": null,
   "id": "8244ae32",
   "metadata": {},
   "outputs": [],
   "source": []
  },
  {
   "cell_type": "code",
   "execution_count": null,
   "id": "9d73fbbe",
   "metadata": {},
   "outputs": [],
   "source": []
  },
  {
   "cell_type": "code",
   "execution_count": null,
   "id": "ca64e326",
   "metadata": {},
   "outputs": [],
   "source": []
  },
  {
   "cell_type": "code",
   "execution_count": null,
   "id": "2f6e5aff",
   "metadata": {},
   "outputs": [],
   "source": []
  },
  {
   "cell_type": "code",
   "execution_count": null,
   "id": "d442a859",
   "metadata": {},
   "outputs": [],
   "source": []
  },
  {
   "cell_type": "code",
   "execution_count": null,
   "id": "fea65f57",
   "metadata": {},
   "outputs": [],
   "source": []
  },
  {
   "cell_type": "code",
   "execution_count": null,
   "id": "34eb75e4",
   "metadata": {},
   "outputs": [],
   "source": []
  },
  {
   "cell_type": "code",
   "execution_count": null,
   "id": "2695cfe1",
   "metadata": {},
   "outputs": [],
   "source": []
  },
  {
   "cell_type": "code",
   "execution_count": null,
   "id": "19f63fb9",
   "metadata": {},
   "outputs": [],
   "source": []
  }
 ],
 "metadata": {
  "kernelspec": {
   "display_name": "Python 3 (ipykernel)",
   "language": "python",
   "name": "python3"
  },
  "language_info": {
   "codemirror_mode": {
    "name": "ipython",
    "version": 3
   },
   "file_extension": ".py",
   "mimetype": "text/x-python",
   "name": "python",
   "nbconvert_exporter": "python",
   "pygments_lexer": "ipython3",
   "version": "3.8.12"
  }
 },
 "nbformat": 4,
 "nbformat_minor": 5
}
