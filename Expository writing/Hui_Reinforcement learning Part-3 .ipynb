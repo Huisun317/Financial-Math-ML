{
 "cells": [
  {
   "cell_type": "code",
   "execution_count": 1,
   "id": "fc839b99",
   "metadata": {},
   "outputs": [],
   "source": [
    "%matplotlib inline\n",
    "import matplotlib.pyplot as plt\n",
    "import torch\n",
    "import torch.nn as nn\n",
    "import numpy as np\n",
    "import random\n",
    "import gym \n",
    "import os\n",
    "import time\n",
    "import glob \n",
    "import import_ipynb"
   ]
  },
  {
   "cell_type": "code",
   "execution_count": 2,
   "id": "e715468f",
   "metadata": {},
   "outputs": [
    {
     "name": "stdout",
     "output_type": "stream",
     "text": [
      "importing Jupyter notebook from utils_rf.ipynb\n"
     ]
    }
   ],
   "source": [
    "from utils_rf import DenseNet,play_and_record,compute_td_loss,ReplayBuffer"
   ]
  },
  {
   "cell_type": "code",
   "execution_count": 3,
   "id": "662339d9",
   "metadata": {},
   "outputs": [],
   "source": [
    "from tqdm import trange #progress bar\n",
    "from IPython.display import clear_output\n",
    "from scipy.signal import convolve, gaussian"
   ]
  },
  {
   "cell_type": "code",
   "execution_count": 4,
   "id": "bfc76f4b",
   "metadata": {},
   "outputs": [],
   "source": [
    "MOMENTUM = 0.99\n",
    "EPSILON = 1e-6"
   ]
  },
  {
   "cell_type": "markdown",
   "id": "3a596e18",
   "metadata": {},
   "source": [
    "# Deep Q-learning"
   ]
  },
  {
   "cell_type": "markdown",
   "id": "635c870a",
   "metadata": {},
   "source": [
    "## Framework\n",
    "To build the framework, we typically have the following goal:\n",
    "$$\n",
    "\\begin{align}\n",
    "J(\\omega)=\\mathbb{E}_{\\pi}[(v_{\\pi}-v_t(s))^2]\n",
    "\\end{align}\n",
    "$$\n",
    "Then by gradient descent, the following optimization procedure is in order: \n",
    "$$\n",
    "\\begin{align}\n",
    "\\omega_{t+1}=\\omega_{t} + \\alpha [v_{\\pi}-v_t(s;\\omega)] \\nabla_{\\omega} v_t(s;\\omega)\n",
    "\\end{align}\n",
    "$$\n",
    "\n",
    "The analytic expression for $v_{\\pi}$ is hard to attain, hence one typically resort to approximations. \n",
    "1. MC update: \n",
    "$$\n",
    "\\begin{align}\n",
    "\\omega_{t+1}=\\omega_{t} + \\alpha [G_{t}(s)-v_t(s;\\omega)] \\nabla_{\\omega} v_t(s;\\omega)\n",
    "\\end{align}\n",
    "$$\n",
    "\n",
    "2. TD(0) update: \n",
    "$$\n",
    "\\begin{align}\n",
    "\\omega_{t+1}=\\omega_{t} + \\alpha [R_{t+1}+\\gamma v_t(s';\\omega)-v_t(s;\\omega)] \\nabla_{\\omega} v_t(s;\\omega)\n",
    "\\end{align}\n",
    "$$\n",
    "\n",
    "### Batch DQN\n",
    "Typically, one has a collection of information by doing simulations, and assume that in this case the target value function $v^{\\pi}_n$, $n=1,...,T$ is known. The dataset takes the following form: \n",
    "\n",
    "$$D=\\lbrace <s_1, v^{\\pi}_1>,<s_2, v^{\\pi}_2>,...,<s_T, v^{\\pi}_T> \\rbrace$$\n",
    "Thus, in a batch mode under the assumption that the batch number is $N$, we have the following optimziation procedure. \n",
    "\n",
    "As a result, for the value function weight update, we have \n",
    "$$\n",
    "\\begin{align}\n",
    "\\omega_{t+1}=\\omega_{t} + \\frac{\\alpha }{N} \\sum^N_{i=1}[v_{\\pi}(s_i)-\\hat{v}(s_i;\\omega)] \\nabla_{\\omega} \\hat{v}(s_i;\\omega)\n",
    "\\end{align}\n",
    "$$\n",
    "The same updating procedure can also be applied to the q-value functions:\n",
    "$$\n",
    "\\begin{align}\n",
    "\\omega_{t+1}=\\omega_{t} + \\frac{\\alpha }{N} \\sum^N_{i=1}[q_{\\pi}(s_i,a_i)-\\hat{q}(s_i,a_i;\\omega_t)] \\nabla_{\\omega} \\hat{q}(s_i,a_i;\\omega_t)\n",
    "\\end{align}\n",
    "$$\n",
    "\n",
    "One needs an approximation for the target function and it takes the following form: \n",
    "$$\n",
    "q_{\\pi} (s_i, a_i) = r_i + \\gamma \\max_{\\tilde{a}_i} q (\\tilde{s}_i, \\tilde{a}_i;\\omega^-_t)\n",
    "$$\n",
    "Some comments are in order:\n",
    "1. The function $q$ is a different neural network function than the $\\hat{q}$. \n",
    "2. The weights $\\omega^-_t$ are not updated frequently, in fact, it is a history of the frequently updated weights: $\\omega_t$ with some lag $L$. The goal is to keep the target function constant for a period instead of constantly chasing a moving target. \n",
    "3. Instead of updating the information in an online fashion, Replay buffer is used to facilitate the batch mode learning. \n",
    "\n",
    "\n",
    "\n",
    "The expected loss function is approximated by batch average. \n",
    "We will calculate average TD error per batch using the equation: \n",
    "$$\n",
    "\\begin{equation}\n",
    "L =  \\frac{1}{N} \\sum_{i=1}^{N} \\left[ r_i + \\left( (1-done_i)  \\gamma   \\max_{a^{'}} \\hat{q}(s_{i}^{'},a^{'};w^{-}_{t}) \\right) – \\hat{q}(s_i,a_i;w_t) \\right]^2\n",
    "\\end{equation}\n",
    "$$\n",
    "\n",
    "In the loss above, the target function $r_i + \\left( (1-done_i)  \\gamma   \\max_{a^{'}} \\hat{q}(s_{i}^{'},a^{'};w^{-}_{t}) \\right)$ is used for the approximation of true target function. The $done_i$ indicator specifies the if the state $s_i$ reaches the terminal state. \n",
    "\n",
    "$$ \n",
    "\\DeclareMathOperator*{\\max}{max} w_{t+1} \\leftarrow w_t + \\frac{\\alpha }{N} \\sum_{i=1}^{N} \\left[ r_i + \\left( (1-done_i)  \\gamma  \\max_{a^{'}} \\hat{q}(s_{i}^{'},a^{'};w^{-}_{t}) \\right) – \\hat{q}(s_i,a_i;w_t) \\right] \\nabla \\hat{q}(s_i,a_i;w_t)$$\n",
    "\n",
    "\n"
   ]
  },
  {
   "cell_type": "markdown",
   "id": "af12b70f",
   "metadata": {},
   "source": [
    "## Variants\n",
    "\n",
    "#### 1. Prioritized replay   \n",
    "Weights are given to the samples in the Replay buffer. \n",
    "\n",
    "#### 2. Double Q-learning\n",
    "This idea addresses the overestimation problem.\n",
    "Originally, in the loss function \n",
    "$$r_i +  (1-done_i)  \\gamma  \\hat{q}(s_{i}^{'},\\tilde{a}_i;w^{-}_{t}) $$where $\\tilde{a}_i=\\max_{a_i^{'}} \\hat{q}(s_{i}^{'},a_i^{'};w^{-}_{t})$. \n",
    "\n",
    "For the new strategy \n",
    "$$r_i +  (1-done_i)  \\gamma  \\hat{q}(s_{i}^{'},\\tilde{a}_i;w^{-}_{t}) $$where $\\tilde{a}_i=\\max_{a_i^{'}} \\hat{q}(s_{i}^{'},a_i^{'};\\boldsymbol{w_{t}})$. That is the $\\tilde{a}_i$ is searched by using the parameter $\\boldsymbol{w_{t}}$.\n",
    "\n",
    "#### 3. Dueling DQN\n"
   ]
  },
  {
   "cell_type": "markdown",
   "id": "fce9b887",
   "metadata": {},
   "source": []
  },
  {
   "cell_type": "markdown",
   "id": "12785f38",
   "metadata": {},
   "source": [
    "# Code demon"
   ]
  },
  {
   "cell_type": "markdown",
   "id": "eadb4cab",
   "metadata": {},
   "source": [
    "#### Experience replay\n",
    "The purpose of the experience replay is that it will transform the the algorithm from the online mode to the batch mode. "
   ]
  },
  {
   "cell_type": "markdown",
   "id": "150976fa",
   "metadata": {},
   "source": [
    "## Setting up the environment"
   ]
  },
  {
   "cell_type": "code",
   "execution_count": 5,
   "id": "1ecca675",
   "metadata": {},
   "outputs": [],
   "source": [
    "device= torch.device('cuda' if torch.cuda.is_available() else 'cpu')"
   ]
  },
  {
   "cell_type": "code",
   "execution_count": 6,
   "id": "4e5a55ed",
   "metadata": {},
   "outputs": [],
   "source": [
    "def epsilon_schedule(start_eps, end_eps, step, final_step):\n",
    "    return start_eps + (end_eps-start_eps)*min(step, final_step)/final_step\n",
    "\n",
    "def smoothen(values):\n",
    "    kernel = gaussian(100, std=100)\n",
    "    kernel = kernel / np.sum(kernel)\n",
    "    return convolve(values, kernel, 'valid')"
   ]
  },
  {
   "cell_type": "markdown",
   "id": "f24e40db",
   "metadata": {},
   "source": [
    "## Construct an agent"
   ]
  },
  {
   "cell_type": "code",
   "execution_count": 7,
   "id": "c2bbaf1c",
   "metadata": {},
   "outputs": [],
   "source": [
    "def make_env(env_name, seed=None):\n",
    "    # remove time limit wrapper from environment\n",
    "    env = gym.make(env_name).unwrapped\n",
    "    if seed is not None:\n",
    "        env.seed(seed)\n",
    "    return env"
   ]
  },
  {
   "cell_type": "code",
   "execution_count": 8,
   "id": "9d0d2191",
   "metadata": {},
   "outputs": [],
   "source": [
    "env_name = 'CartPole-v1'\n",
    "env=make_env(env_name, seed=None)\n",
    "state_shape = env.observation_space.shape\n",
    "n_actions = env.action_space.n"
   ]
  },
  {
   "cell_type": "code",
   "execution_count": 9,
   "id": "451b25ce",
   "metadata": {},
   "outputs": [],
   "source": [
    "class Config(object):\n",
    "    state_dim=state_shape[0]\n",
    "    num_hiddens=[state_dim,196,256,64,n_actions]\n",
    "    Nlayers=len(num_hiddens)-1"
   ]
  },
  {
   "cell_type": "code",
   "execution_count": 10,
   "id": "58661ef3",
   "metadata": {},
   "outputs": [],
   "source": [
    "cfg=Config()"
   ]
  },
  {
   "cell_type": "code",
   "execution_count": 11,
   "id": "8df3c489",
   "metadata": {},
   "outputs": [],
   "source": [
    "class DQNAgent(nn.Module):\n",
    "    def __init__(self, state_size, action_dim, cfg, epsilon=0): \n",
    "        super(DQNAgent,self).__init__()\n",
    "        self.epsilon=epsilon\n",
    "        self.state_size =state_size \n",
    "        self.state_dim=self.state_size[0]\n",
    "        self.action_dim=action_dim\n",
    "        self.cfg=cfg\n",
    "        \n",
    "        self.network=DenseNet(cfg)\n",
    "        self.parameters=self.network.parameters\n",
    "    \n",
    "    def forward(self, state_t):\n",
    "        q_temp=self.network(state_t)\n",
    "        return q_temp\n",
    "    \n",
    "    def get_qvalues(self,states):\n",
    "        states=torch.tensor(states, device=device,dtype=torch.float32)\n",
    "        \n",
    "        qvalues=self.forward(states)\n",
    "        return qvalues.data.cpu().numpy()\n",
    "    \n",
    "    ### Sample actions by using ϵ-greedy strategy\n",
    "    def sample_actions(self, qvalues):\n",
    "        batch_size, n_actions=qvalues.shape\n",
    "        \n",
    "        #randomly sample actions \n",
    "        random_actions=np.random.choice(n_actions,size=batch_size)\n",
    "        optimal_actions=qvalues.argmax(axis=-1);\n",
    "        \n",
    "        ## 0--no random 1--random exploration\n",
    "        explore=np.random.choice([0,1], batch_size, p=[1-self.epsilon, self.epsilon])\n",
    "        \n",
    "        #np.where:Return elements chosen from x or y depending on condition.\n",
    "        #if explore ==0, pick optimal_action\n",
    "        return np.where(explore,random_actions,optimal_actions)\n",
    "        "
   ]
  },
  {
   "cell_type": "code",
   "execution_count": 12,
   "id": "def169b3",
   "metadata": {},
   "outputs": [],
   "source": [
    "def evaluate(env, agent, n_games=1, greedy=False, t_max=10000):\n",
    "    rewards=[]\n",
    "    for _ in range(n_games):\n",
    "        s=env.reset()\n",
    "        reward=0\n",
    "        for _ in range(t_max):\n",
    "            qvalues=agent.get_qvalues([s])\n",
    "            action=qvalues.argmax(axis=-1)[0] if greedy else agent.sample_actions(qvalues)[0]\n",
    "            s, r, done, _ = env.step(action)\n",
    "            reward+=r\n",
    "            if done:\n",
    "                break\n",
    "                \n",
    "        rewards.append(reward)\n",
    "    return np.mean(rewards)"
   ]
  },
  {
   "cell_type": "markdown",
   "id": "3fc41ede",
   "metadata": {},
   "source": [
    "# Main code demo"
   ]
  },
  {
   "cell_type": "code",
   "execution_count": 13,
   "id": "7a3023ec",
   "metadata": {},
   "outputs": [
    {
     "data": {
      "text/plain": [
       "<torch._C.Generator at 0x19cd1f44ef0>"
      ]
     },
     "execution_count": 13,
     "metadata": {},
     "output_type": "execute_result"
    }
   ],
   "source": [
    "seed = 13\n",
    "random.seed(seed)\n",
    "np.random.seed(seed)\n",
    "torch.manual_seed(seed)"
   ]
  },
  {
   "cell_type": "code",
   "execution_count": 14,
   "id": "ab7524ca",
   "metadata": {},
   "outputs": [
    {
     "name": "stderr",
     "output_type": "stream",
     "text": [
      "C:\\Users\\huisu\\anaconda3\\envs\\gputest2\\lib\\site-packages\\gym\\core.py:201: DeprecationWarning: \u001b[33mWARN: Function `env.seed(seed)` is marked as deprecated and will be removed in the future. Please use `env.reset(seed=seed)` instead.\u001b[0m\n",
      "  \"Function `env.seed(seed)` is marked as deprecated and will be removed in the future. \"\n"
     ]
    },
    {
     "data": {
      "text/plain": [
       "<All keys matched successfully>"
      ]
     },
     "execution_count": 14,
     "metadata": {},
     "output_type": "execute_result"
    }
   ],
   "source": [
    "env_name = 'CartPole-v1'\n",
    "env=make_env(env_name, seed)\n",
    "state_dim = env.observation_space.shape\n",
    "n_actions = env.action_space.n\n",
    "state = env.reset()\n",
    "\n",
    "agent = DQNAgent(state_shape, n_actions, cfg, epsilon=1).to(device)\n",
    "target_network = DQNAgent(state_shape, n_actions, cfg, epsilon=1).to(device)\n",
    "target_network.load_state_dict(agent.state_dict())"
   ]
  },
  {
   "cell_type": "code",
   "execution_count": 15,
   "id": "ca8d32f9",
   "metadata": {},
   "outputs": [
    {
     "name": "stderr",
     "output_type": "stream",
     "text": [
      "C:\\Users\\huisu\\anaconda3\\envs\\gputest2\\lib\\site-packages\\ipykernel_launcher.py:18: UserWarning: Creating a tensor from a list of numpy.ndarrays is extremely slow. Please consider converting the list to a single numpy.ndarray with numpy.array() before converting to a tensor. (Triggered internally at  C:\\cb\\pytorch_1000000000000\\work\\torch\\csrc\\utils\\tensor_new.cpp:210.)\n"
     ]
    },
    {
     "name": "stdout",
     "output_type": "stream",
     "text": [
      "10000\n"
     ]
    }
   ],
   "source": [
    "exp_replay = ReplayBuffer(10**4)\n",
    "for i in range(100):\n",
    "    play_and_record(state, agent, env, exp_replay, n_steps=10**2)\n",
    "    if len(exp_replay) == 10**4:\n",
    "        break\n",
    "print(len(exp_replay))"
   ]
  },
  {
   "cell_type": "code",
   "execution_count": 16,
   "id": "1fa4cec1",
   "metadata": {},
   "outputs": [],
   "source": [
    "#setup some parameters for training\n",
    "timesteps_per_epoch = 1\n",
    "batch_size = 32\n",
    "total_steps = 5 * 10**4\n",
    "\n",
    "#init Optimizer\n",
    "opt = torch.optim.Adam(agent.parameters(), lr=1e-4)\n",
    "\n",
    "# set exploration epsilon \n",
    "start_epsilon = 1\n",
    "end_epsilon = 0.05\n",
    "eps_decay_final_step = 2 * 10**4\n",
    "\n",
    "# setup spme frequency for loggind and updating target network\n",
    "loss_freq = 20\n",
    "refresh_target_network_freq = 100\n",
    "eval_freq = 1000\n",
    "\n",
    "# to clip the gradients\n",
    "max_grad_norm = 5000"
   ]
  },
  {
   "cell_type": "code",
   "execution_count": 17,
   "id": "7c90af4d",
   "metadata": {},
   "outputs": [],
   "source": [
    "mean_rw_history = []\n",
    "td_loss_history = []"
   ]
  },
  {
   "cell_type": "markdown",
   "id": "129838c6",
   "metadata": {},
   "source": [
    "The loss function shows a lot of sporadic spikes, one can smooth it out with a Gaussian kernel."
   ]
  },
  {
   "cell_type": "code",
   "execution_count": 18,
   "id": "ea6ecb5c",
   "metadata": {},
   "outputs": [
    {
     "name": "stdout",
     "output_type": "stream",
     "text": [
      "buffer size = 10000, epsilon = 0.05000\n"
     ]
    },
    {
     "data": {
      "image/png": "[encoded data removed]",
      "text/plain": [
       "<Figure size 1152x360 with 2 Axes>"
      ]
     },
     "metadata": {
      "needs_background": "light"
     },
     "output_type": "display_data"
    },
    {
     "name": "stderr",
     "output_type": "stream",
     "text": [
      "100%|███████████████████████████████████████████████████████████████████████████| 50001/50001 [02:29<00:00, 334.23it/s]\n"
     ]
    }
   ],
   "source": [
    "state = env.reset()\n",
    "\n",
    "for step in trange(total_steps + 1):\n",
    "    \n",
    "    # reduce exploration as we progress\n",
    "    agent.epsilon = epsilon_schedule(start_epsilon, end_epsilon, step, eps_decay_final_step)\n",
    "\n",
    "    # upate the replay_buffer with the (sarsd) pairs \n",
    "    _, state = play_and_record(state, agent, env, exp_replay, timesteps_per_epoch)\n",
    "\n",
    "    # train by sampling batch_size of data from experience replay\n",
    "    states, actions, rewards, next_states, done_flags = exp_replay.sample(batch_size)\n",
    "    \n",
    "\n",
    "    # loss = <compute TD loss>\n",
    "    loss = compute_td_loss(agent, target_network, \n",
    "                           states, actions, rewards, next_states, done_flags,                  \n",
    "                           gamma=0.99,\n",
    "                           device=device)\n",
    "\n",
    "    loss.backward()\n",
    "    grad_norm = nn.utils.clip_grad_norm_(agent.parameters(), max_grad_norm)\n",
    "    opt.step()\n",
    "    opt.zero_grad()\n",
    "\n",
    "    if step % loss_freq == 0:\n",
    "        td_loss_history.append(loss.data.cpu().item())\n",
    "\n",
    "    if step % refresh_target_network_freq == 0:\n",
    "        # Load agent weights into target_network\n",
    "        target_network.load_state_dict(agent.state_dict())\n",
    "\n",
    "    if step % eval_freq == 0:\n",
    "        # eval the agent\n",
    "        mean_rw_history.append(evaluate(\n",
    "            make_env(env_name, seed=step), agent, n_games=3, greedy=True, t_max=1000)\n",
    "        )\n",
    "\n",
    "        clear_output(True)\n",
    "        print(\"buffer size = %i, epsilon = %.5f\" %\n",
    "              (len(exp_replay), agent.epsilon))\n",
    "\n",
    "        plt.figure(figsize=[16, 5])\n",
    "        plt.subplot(1, 2, 1)\n",
    "        plt.title(\"Mean reward per episode\")\n",
    "        plt.plot(mean_rw_history)\n",
    "        plt.grid()\n",
    "\n",
    "        assert not np.isnan(td_loss_history[-1])\n",
    "        plt.subplot(1, 2, 2)\n",
    "        plt.title(\"TD loss history (smoothened)\")\n",
    "        plt.plot(smoothen(td_loss_history))#smoothen(td_loss_history)\n",
    "        plt.grid()\n",
    "\n",
    "        plt.show()"
   ]
  },
  {
   "cell_type": "code",
   "execution_count": 19,
   "id": "bb91846b",
   "metadata": {},
   "outputs": [
    {
     "name": "stdout",
     "output_type": "stream",
     "text": [
      "final score: 583.1666666666666\n",
      "Well done\n"
     ]
    }
   ],
   "source": [
    "final_score = evaluate(\n",
    "  make_env(env_name),\n",
    "  agent, n_games=30, greedy=True, t_max=1000\n",
    ")\n",
    "print('final score:', final_score)\n",
    "print('Well done')"
   ]
  },
  {
   "cell_type": "code",
   "execution_count": null,
   "id": "c895b7b9",
   "metadata": {},
   "outputs": [],
   "source": []
  },
  {
   "cell_type": "code",
   "execution_count": null,
   "id": "ab4fd22b",
   "metadata": {},
   "outputs": [],
   "source": []
  },
  {
   "cell_type": "code",
   "execution_count": null,
   "id": "fafc70c5",
   "metadata": {},
   "outputs": [],
   "source": []
  },
  {
   "cell_type": "code",
   "execution_count": null,
   "id": "7e92e467",
   "metadata": {},
   "outputs": [],
   "source": []
  },
  {
   "cell_type": "code",
   "execution_count": null,
   "id": "b14b6881",
   "metadata": {},
   "outputs": [],
   "source": []
  },
  {
   "cell_type": "code",
   "execution_count": null,
   "id": "f66ddbfb",
   "metadata": {},
   "outputs": [],
   "source": []
  },
  {
   "cell_type": "code",
   "execution_count": null,
   "id": "8ace04a0",
   "metadata": {},
   "outputs": [],
   "source": []
  },
  {
   "cell_type": "code",
   "execution_count": null,
   "id": "30d92631",
   "metadata": {},
   "outputs": [],
   "source": []
  },
  {
   "cell_type": "code",
   "execution_count": null,
   "id": "6b9a70f0",
   "metadata": {},
   "outputs": [],
   "source": []
  },
  {
   "cell_type": "code",
   "execution_count": null,
   "id": "f0ff501b",
   "metadata": {},
   "outputs": [],
   "source": []
  },
  {
   "cell_type": "code",
   "execution_count": null,
   "id": "bd7a742d",
   "metadata": {},
   "outputs": [],
   "source": []
  },
  {
   "cell_type": "code",
   "execution_count": null,
   "id": "6d87cb17",
   "metadata": {},
   "outputs": [],
   "source": []
  },
  {
   "cell_type": "code",
   "execution_count": null,
   "id": "0c321680",
   "metadata": {},
   "outputs": [],
   "source": []
  },
  {
   "cell_type": "code",
   "execution_count": null,
   "id": "144b4075",
   "metadata": {},
   "outputs": [],
   "source": []
  },
  {
   "cell_type": "code",
   "execution_count": null,
   "id": "079a8f3a",
   "metadata": {},
   "outputs": [],
   "source": []
  },
  {
   "cell_type": "code",
   "execution_count": null,
   "id": "677a29b3",
   "metadata": {},
   "outputs": [],
   "source": []
  },
  {
   "cell_type": "code",
   "execution_count": null,
   "id": "db397a8c",
   "metadata": {},
   "outputs": [],
   "source": []
  },
  {
   "cell_type": "code",
   "execution_count": null,
   "id": "5b82cb2f",
   "metadata": {},
   "outputs": [],
   "source": []
  },
  {
   "cell_type": "code",
   "execution_count": null,
   "id": "99a06712",
   "metadata": {},
   "outputs": [],
   "source": []
  },
  {
   "cell_type": "code",
   "execution_count": null,
   "id": "c7ebd94c",
   "metadata": {},
   "outputs": [],
   "source": []
  }
 ],
 "metadata": {
  "kernelspec": {
   "display_name": "Python 3 (ipykernel)",
   "language": "python",
   "name": "python3"
  },
  "language_info": {
   "codemirror_mode": {
    "name": "ipython",
    "version": 3
   },
   "file_extension": ".py",
   "mimetype": "text/x-python",
   "name": "python",
   "nbconvert_exporter": "python",
   "pygments_lexer": "ipython3",
   "version": "3.7.13"
  }
 },
 "nbformat": 4,
 "nbformat_minor": 5
}
